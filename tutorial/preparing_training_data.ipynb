{
 "cells": [
  {
   "cell_type": "markdown",
   "metadata": {},
   "source": [
    "# Preparing Training Data (remote sensing) for DeepLab\n",
    "\n",
    "Training data is critical for supervised learning. There are many public training data available online, such as [ImageNet](http://www.image-net.org/) and [PASCAL VOC 2012](http://host.robots.ox.ac.uk/pascal/VOC/voc2012/), can be used to train deep learning algorithms. Images in these datasets are from everyday scenes and contain targets such as cats, cars, and people.   \n",
    "\n",
    "We need to prepare our new, unique training data because both images and targets are different from those in the public datasets. We use images from satellites or airborne platforms, and targets are landforms, landslides, and other objects on the surface. \n",
    "\n",
    "To understand how we prepare trianing data for DeepLab, we will go through each step in this tutorial. [DeepLab](https://github.com/tensorflow/models/tree/master/research/deeplab) is a supervised learning algorithm for labeling targets on images. An UAV-derived image covering Eboling Mountain on the Tibetan Plateau will be used for the demonstration. Please refer to [Huang et al., 2018](https://www.mdpi.com/2072-4292/10/12/2067) for more information."
   ]
  },
  {
   "cell_type": "markdown",
   "metadata": {},
   "source": [
    "## A glimpse on training data\n",
    "\n",
    "#### Training images and the corresponding label images from PASCAL VOC 2012:\n",
    "![title](figures/voc_air_plane_layout_trim.png ) \n",
    "In this example, the label image (pixel-wise class map) shows where are the targets (airple) and background (sky). Usually, the pixels in the label images store the class ID (an integer), which is assigned with a specific color (e.g., red) for visualization. These label images were created by humans using annotation tools such as [labelme](https://github.com/wkentaro/labelme).\n",
    "\n",
    "#### Training polygons and remote sensing images:\n",
    "\n",
    " <img src=figures/training_polygon_source_trim.jpg width=\"800\"/>\n",
    "The figure above shows the distribution of the training polygons: 15 of them are non-gullies; seven were collected from field GPS measurements; and four were from manual delineation (digitizing).\n",
    " \n",
    "Compared with images from everyday scenes, remote sensing images have characteristics of a large size (e.g., > 10000 by 10000 pixels), multiple bands (>= three), and coordinates. The coordinates are very important because they represent target locations on the earth's surface.\n",
    "\n",
    "Two categories of training polygons: positive and negative polygons, are presented in the figure above. Positive ones are target boundaries (e.g., gully polygons), and negative ones are these covering non-target areas.\n",
    "\n",
    "<!-- #### Training data derived from remote sensing images:  -->\n",
    "<!-- [QGIS](https://www.qgis.org)-->\n"
   ]
  },
  {
   "cell_type": "markdown",
   "metadata": {},
   "source": [
    "## Step 1: delineating training polgyons\n"
   ]
  },
  {
   "cell_type": "markdown",
   "metadata": {},
   "source": []
  },
  {
   "cell_type": "code",
   "execution_count": null,
   "metadata": {
    "collapsed": true
   },
   "outputs": [],
   "source": []
  },
  {
   "cell_type": "code",
   "execution_count": null,
   "metadata": {
    "collapsed": true
   },
   "outputs": [],
   "source": []
  },
  {
   "cell_type": "code",
   "execution_count": null,
   "metadata": {
    "collapsed": true
   },
   "outputs": [],
   "source": []
  },
  {
   "cell_type": "code",
   "execution_count": null,
   "metadata": {
    "collapsed": true
   },
   "outputs": [],
   "source": []
  },
  {
   "cell_type": "code",
   "execution_count": null,
   "metadata": {
    "collapsed": true
   },
   "outputs": [],
   "source": []
  },
  {
   "cell_type": "code",
   "execution_count": null,
   "metadata": {
    "collapsed": true
   },
   "outputs": [],
   "source": []
  },
  {
   "cell_type": "code",
   "execution_count": null,
   "metadata": {
    "collapsed": true
   },
   "outputs": [],
   "source": []
  },
  {
   "cell_type": "code",
   "execution_count": null,
   "metadata": {
    "collapsed": true
   },
   "outputs": [],
   "source": []
  },
  {
   "cell_type": "code",
   "execution_count": null,
   "metadata": {
    "collapsed": true
   },
   "outputs": [],
   "source": []
  }
 ],
 "metadata": {
  "kernelspec": {
   "display_name": "Python 3",
   "language": "python",
   "name": "python3"
  },
  "language_info": {
   "codemirror_mode": {
    "name": "ipython",
    "version": 3
   },
   "file_extension": ".py",
   "mimetype": "text/x-python",
   "name": "python",
   "nbconvert_exporter": "python",
   "pygments_lexer": "ipython3",
   "version": "3.6.8"
  }
 },
 "nbformat": 4,
 "nbformat_minor": 0
}
